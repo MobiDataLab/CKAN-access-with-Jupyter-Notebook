{
 "cells": [
  {
   "cell_type": "markdown",
   "id": "84ee4259",
   "metadata": {
    "id": "84ee4259"
   },
   "source": [
    "# Preview"
   ]
  },
  {
   "cell_type": "markdown",
   "id": "eda780d1",
   "metadata": {
    "id": "eda780d1"
   },
   "source": [
    "This notebook was inspired by the work done within the framework of the First International Summer School on Data Science for Mobility 2022, Santorini, Greece.\n",
    "\n",
    "For more details and examples about the human mobility analysis and simulation in Python, please have a look at these [tutorials](https://github.com/scikit-mobility/tutorials/tree/master/DSM_summer_school).\n",
    "\n",
    "The following formats, along with their extensions and other associated formats are available at [this link.](https://docs.fileformat.com/)"
   ]
  },
  {
   "cell_type": "markdown",
   "id": "nM7xWmiqvTUk",
   "metadata": {
    "id": "nM7xWmiqvTUk"
   },
   "source": [
    "**NB**: the storage of geographic data differs from one format /dataset to another. Indeed, sometimes the data is in the form of a list, other times we have dictionaries, or strings, or points, etc.\n",
    "The safest way is to display the data once it is extracted so that we know how to handle it afterwards."
   ]
  },
  {
   "cell_type": "markdown",
   "id": "e145eb69",
   "metadata": {},
   "source": [
    "## Table of contents\n",
    "\n",
    "* [Installing packages](#chapter1)\n",
    "* [Reading datasets with Pandas](#chapter2)\n",
    "    * [CSV/TXT formats](#section_2_1)\n",
    "    * [XML/PHP formats](#section_2_2)\n",
    "       * [ XSD format](#sub_section_2_2_1)\n",
    "       * [ ODS format](#sub_section_2_2_2)\n",
    "    * [XLS/XLSX formats](#section_2_3)\n",
    "    * [JSON/GBFS formats](#section_2_4)\n",
    "    * [HTML format](#section_2_5)\n",
    "    * [API format](#section_2_6)\n",
    "* [GIS API](#chapter3)\n",
    "* [Reading datasets with GeoPandas](#chapter4)\n",
    "  * [GeoJSON/SHP/GPKG formats](#section_4_1)\n",
    "  * [OGC standards](#section_4_2)\n",
    "    * [KML format](#sub_section_4_2_1)\n",
    "    * [GML/XPLANGML formats](#sub_section_4_2_2)\n",
    "    * [ WMS format  ](#sub_section_4_2_3)\n",
    "    * [ CSW format  ](#sub_section_4_2_4)\n",
    "    * [WFS format](#sub_section_4_2_5)\n",
    "    * [WCS format](#sub_section_4_2_6)\n",
    "* [ZIP files](#chapter5)  \n",
    "* [SPARQL format](#chapter6)  \n",
    "* [PDF format](#chapter7)  \n",
    "* [OSM (DBF) format](#chapter8)  \n",
    "* [TIFF format](#chapter9) \n",
    "* [DXF format](#chapter10) "
   ]
  },
  {
   "cell_type": "markdown",
   "id": "5c4ec8b2",
   "metadata": {},
   "source": [
    "## Installing packages <a class=\"anchor\" id=\"chapter1\"></a>"
   ]
  },
  {
   "cell_type": "markdown",
   "id": "8c1266cc",
   "metadata": {},
   "source": [
    "Installing Python packages in Anaconda is a simple process that can be done through various methods, such as using the conda command, pip, or the Anaconda Navigator. For more details about these methods, please refer to [this tutorial.](https://www.tutorialspoint.com/how-do-i-install-python-packages-in-anaconda)"
   ]
  },
  {
   "cell_type": "markdown",
   "id": "b5a3c039",
   "metadata": {
    "id": "b5a3c039"
   },
   "source": [
    "## Reading Datasets with Pandas <a class=\"anchor\" id=\"chapter2\"></a>"
   ]
  },
  {
   "cell_type": "markdown",
   "id": "a354cc9c",
   "metadata": {},
   "source": [
    "The following formats are manipulable with **Pandas**, a Python library for data analysis. Pandas introduced two new types of objects for storing data that make analytical tasks easier and eliminate the need to switch tools: Series, which have a list-like structure, and DataFrames, which have a tabular structure."
   ]
  },
  {
   "cell_type": "markdown",
   "id": "63556478",
   "metadata": {
    "id": "63556478"
   },
   "source": [
    "### CSV/TXT formats  <a class=\"anchor\" id=\"section_2_1\"></a>"
   ]
  },
  {
   "cell_type": "markdown",
   "id": "TYHSwRcI-79T",
   "metadata": {
    "id": "TYHSwRcI-79T"
   },
   "source": [
    "Files with **Comma Separated Values (CSV)** extension represent plain text files that contain records of data with comma separated values. Each line in a CSV file is a new record from the set of records contained in the file."
   ]
  },
  {
   "cell_type": "markdown",
   "id": "dxrPUnGAAUDc",
   "metadata": {
    "id": "dxrPUnGAAUDc"
   },
   "source": [
    "A file with **.TXT extension** represents a text document that contains plain text in the form of lines. The default character set of text files is ASCII that is used for creating and display of text file contents. Characters are encoded using ASCII character set, but this imposes limitation of usage on characters such as Pound Sign, Dollar and Euro sign that can’t be represented using the ASCII character set. Thus, text files can also be saved in Unicode format, with UTF-8 being the mostly used. Text files can also store large amount of data as there is no limitation on the size of contents. A standard text document can be opened in any text editor or word processing application on different operating systems. \n",
    "\n"
   ]
  },
  {
   "cell_type": "code",
   "execution_count": null,
   "id": "1b9333bd",
   "metadata": {},
   "outputs": [],
   "source": [
    "import pandas as pd\n",
    "import io\n",
    "\n",
    "#same function is applicable for '.txt' files\n",
    "try:\n",
    "    df = pd.read_csv(data_url, sep=';')\n",
    "except Exception as e:\n",
    "    print('Sorry, could not handle the csv/txt file. Error : ' + str(e)) "
   ]
  },
  {
   "cell_type": "markdown",
   "id": "706758d2",
   "metadata": {
    "id": "706758d2"
   },
   "source": [
    "### XML/PHP formats  <a class=\"anchor\" id=\"section_2_2\"></a>"
   ]
  },
  {
   "cell_type": "markdown",
   "id": "ViLvqjXb3H23",
   "metadata": {
    "id": "ViLvqjXb3H23"
   },
   "source": [
    "The **Extensible Markup Language (XML)** is similar to HTML but different in using tags for defining objects (HTML is for data representation over the web, whereas XML is for exchange of data). The markup tag pairs used inside XML define the key elements of the structure to be utilized by reading applications.\n",
    "\n",
    "\n",
    " "
   ]
  },
  {
   "cell_type": "markdown",
   "id": "0TpiY1Bn8xJz",
   "metadata": {
    "id": "0TpiY1Bn8xJz"
   },
   "source": [
    "On the other hand, a file with **.php** extension refers to open source programming language, used to write server side scripts, to be executed on a web server. The result is returned to the browser as plain HTML. PHP files can be opened with any text editor and edited in place, though applications like Adobe Dreamweaver, Eclipse PHP Development tools offer a convenient way to write and modify PHP code."
   ]
  },
  {
   "cell_type": "code",
   "execution_count": null,
   "id": "43d187df",
   "metadata": {},
   "outputs": [],
   "source": [
    "import pandas as pd\n",
    "import io\n",
    "\n",
    "#same function is applicable for files that end with '.php'\n",
    "try:\n",
    "    df=pd.read_xml(data_url)\n",
    "except Exception as e:\n",
    "        print('Sorry, could not handle the xml/php file. Error : ' + str(e))"
   ]
  },
  {
   "cell_type": "markdown",
   "id": "a568afa8",
   "metadata": {
    "id": "a568afa8"
   },
   "source": [
    "#### XSD format <a class=\"anchor\" id=\"sub_section_2_2_1\"></a>"
   ]
  },
  {
   "cell_type": "markdown",
   "id": "15834a51",
   "metadata": {
    "id": "15834a51"
   },
   "source": [
    "An **XML schema definition (XSD)** is a framework document that defines the rules and constraints of an XML document. This ensures that data is properly interpreted, and errors are caught, resulting in appropriate XML validation. XSD files ensure that the data entered follows the same structure as defined in the file. XSD files are stored in XML file format and can be opened or edited in any text editor."
   ]
  },
  {
   "cell_type": "code",
   "execution_count": null,
   "id": "8320e6f5",
   "metadata": {
    "id": "8320e6f5"
   },
   "outputs": [],
   "source": [
    "import xmlschema\n",
    "\n",
    "try:\n",
    "    my_schema = xmlschema.XMLSchema(data_url)\n",
    "    print(my_schema)\n",
    "except Exception as e:\n",
    "        print('Sorry, could not handle the xsd file. Error : ' + str(e))   "
   ]
  },
  {
   "cell_type": "markdown",
   "id": "859641f1",
   "metadata": {},
   "source": [
    "#### ODS format <a class=\"anchor\" id=\"sub_section_2_2_2\"></a>"
   ]
  },
  {
   "cell_type": "markdown",
   "id": "afce7205",
   "metadata": {
    "id": "afce7205"
   },
   "source": [
    "**OpenDocument Spreadsheet (ODS)** is a XML-based format and is one of the several subtypes in the Open Document Formats (ODF) family. The format supports document representation as a single XML document as well as a collection of several subdocuments within a package as ZIP archive.  Each of the files from the ZIP archive stores part of the complete document. Each subdocument stores a particular aspect of the document. For example, one subdocument contains the style information and another subdocument contains the content of the document."
   ]
  },
  {
   "cell_type": "code",
   "execution_count": null,
   "id": "2730e4e5",
   "metadata": {
    "id": "2730e4e5"
   },
   "outputs": [],
   "source": [
    "from pandas_ods_reader import read_ods\n",
    "try:\n",
    "    df = read_ods(data_url)\n",
    "except Exception as e:\n",
    "        print('Sorry, could not handle the ODS file. Error : ' + str(e))        "
   ]
  },
  {
   "cell_type": "markdown",
   "id": "ace75d67",
   "metadata": {
    "id": "ace75d67"
   },
   "source": [
    "### XLS/XLSX formats <a class=\"anchor\" id=\"section_2_3\"></a>"
   ]
  },
  {
   "cell_type": "markdown",
   "id": "lpvExeaWEqRY",
   "metadata": {
    "id": "lpvExeaWEqRY"
   },
   "source": [
    "Files with XLS extension represent **Excel Binary File Format**. Just like the CSV format, a file saved by Excel is known as Workbook where each workbook can have one or more worksheets. Data is stored and displayed to users in table format in worksheet and can span numeric values, text data, formulas, external data connections, images, and charts.\n",
    " "
   ]
  },
  {
   "cell_type": "code",
   "execution_count": null,
   "id": "d79cc2ed",
   "metadata": {},
   "outputs": [],
   "source": [
    "import pandas as pd\n",
    "import io\n",
    "\n",
    "#same function is applicable for the \"xlsx\" format\n",
    "try:\n",
    "    df=pd.read_excel(data_url)\n",
    "except Exception as e:\n",
    "    print('Sorry, could not handle the xls file. Error : ' + str(e))"
   ]
  },
  {
   "cell_type": "markdown",
   "id": "43e42f99",
   "metadata": {
    "id": "43e42f99"
   },
   "source": [
    "### JSON/GBFS  formats <a class=\"anchor\" id=\"section_2_4\"></a>"
   ]
  },
  {
   "cell_type": "markdown",
   "id": "iFpe1RQiHw04",
   "metadata": {
    "id": "iFpe1RQiHw04"
   },
   "source": [
    "The **JavaScript Object Notation (JSON)** is an open standard file format for sharing data that uses human-readable text to store and transmit data. It is derived from JavaScript but is a language-independent data format. \n",
    "\n",
    "JSON data is written in key/value pairs. The key and value are separated by a colon(:) in the middle with the key on the left and the value on the right. Different key/value pairs are separated by a comma(,). The key is a string surrounded by double quotation marks for example “name”. "
   ]
  },
  {
   "cell_type": "markdown",
   "id": "5a824fc2",
   "metadata": {},
   "source": [
    "The **General Bikeshare Feed Specification (GBFS)**, is the open data standard for shared mobility. GBFS makes real-time data feeds in a uniform format publicly available online, with an emphasis on findability."
   ]
  },
  {
   "cell_type": "code",
   "execution_count": null,
   "id": "5412a09a",
   "metadata": {},
   "outputs": [],
   "source": [
    "import pandas as pdx\n",
    "import io\n",
    "\n",
    "#same function is applicable for the \"DORA-Service\"/\"GBFS\" formats\n",
    "try:\n",
    "    df = pd.read_json(data_url)\n",
    "except Exception as e:\n",
    "    print('Sorry, could not handle the json/GBFS file. Error : ' + str(e))"
   ]
  },
  {
   "cell_type": "markdown",
   "id": "34234516",
   "metadata": {
    "id": "34234516"
   },
   "source": [
    "### HTML format <a class=\"anchor\" id=\"section_2_5\"></a>"
   ]
  },
  {
   "cell_type": "markdown",
   "id": "Hm5hglvDJjow",
   "metadata": {
    "id": "Hm5hglvDJjow"
   },
   "source": [
    "The **Hyper Text Markup Language (HTML)** is the extension for web pages created for display in browsers. HTML pages are either received from server, where these are hosted, or can be loaded from local system as well. Each HTML page is made up of HTML elements such as forms, text, images, animations, links, etc. These elements are represented by tags and several others where each tag has start and end. It can also embed applications written in scripting languages such as JavaScript and Style Sheets (CSS) for overall layout representation."
   ]
  },
  {
   "cell_type": "code",
   "execution_count": null,
   "id": "79db318c",
   "metadata": {
    "id": "79db318c"
   },
   "outputs": [],
   "source": [
    "import pandas as pd\n",
    "import io\n",
    "\n",
    "try:\n",
    "    table = pd.read_html(data_url)\n",
    "except Exception as e:\n",
    "    print('Sorry, could not handle the html file. Error : ' + str(e))"
   ]
  },
  {
   "cell_type": "markdown",
   "id": "8ede0ce6",
   "metadata": {
    "id": "8ede0ce6"
   },
   "source": [
    "### API format  <a class=\"anchor\" id=\"section_2_6\"></a>"
   ]
  },
  {
   "cell_type": "markdown",
   "id": "tsroRQxSLmPB",
   "metadata": {
    "id": "tsroRQxSLmPB"
   },
   "source": [
    "An **application programming interface (API)** is a way for two or more computer programs to communicate with each other. It is a type of software interface, offering a service to other pieces of software. document or standard that describes how to build or use such a connection or interface is called an API specification. A computer system that meets this standard is said to implement or expose an API. The term API may refer either to the specification or to the implementation."
   ]
  },
  {
   "cell_type": "code",
   "execution_count": null,
   "id": "1a58ac96",
   "metadata": {
    "id": "1a58ac96"
   },
   "outputs": [],
   "source": [
    "import requests\n",
    "import json\n",
    "import pandas as pd\n",
    "from pandas import DataFrame\n",
    "import io\n",
    "\n",
    "try:\n",
    "    response_API = requests.get(data_url)\n",
    "    data = response_API.text \n",
    "    parse_json = json.loads(data)\n",
    "    df = pd.DataFrame.from_dict(pd.json_normalize(parse_json), orient='columns') \n",
    "except Exception as e:\n",
    "        print('Sorry, could not access to this api. Error : ' + str(e))   "
   ]
  },
  {
   "cell_type": "markdown",
   "id": "aaa07bbf",
   "metadata": {
    "id": "aaa07bbf"
   },
   "source": [
    "## GIS API <a class=\"anchor\" id=\"chapter3\"></a>"
   ]
  },
  {
   "cell_type": "markdown",
   "id": "f6a7dce3",
   "metadata": {
    "id": "f6a7dce3"
   },
   "source": [
    "A **Geographic Information System (GIS)** is a type of database containing geographic data, combined with software tools for managing, analyzing, and visualizing those data. \n",
    "\n",
    "The core of any GIS is a database that contains representations of geographic phenomena (such as roads, land use, elevation, trees, waterways, and states), modeling their geometry (location and shape) and their properties or attributes. A GIS database may be stored in a variety of forms, such as a collection of separate data files or a single spatially-enabled relational database. \n",
    "\n",
    "For more informations about the standard, see also [this link](https://en.wikipedia.org/wiki/Geographic_information_system) and [this one.](https://www.gistandards.eu/gis-standards/#:~:text=What%20are%20GIS%20standards%3F,use%20of%20any%20geographic%20information.) \n",
    "\n",
    "To perform GIS visualization, analysis, data management, and GIS system administration task, we use the ArcGIS API library. To explore this library more in details, have a look at [Documentation and samples for ArcGIS API for Python](https://github.com/Esri/arcgis-python-api). For more informations about the GIS module (parameters, examples, etc.), see also [this link.](https://developers.arcgis.com/python/api-reference/arcgis.gis.toc.html#gis)"
   ]
  },
  {
   "cell_type": "code",
   "execution_count": null,
   "id": "9d0dcccd",
   "metadata": {
    "id": "9d0dcccd"
   },
   "outputs": [],
   "source": [
    "from arcgis.gis import GIS\n",
    "import io\n",
    "from IPython.display import display\n",
    "\n",
    "def read_gis(data_url, city, query):\n",
    "    \n",
    "    try:\n",
    "        \n",
    "        #The GIS Object provides a mapping widget that can be used in the Jupyter Notebook environment for visualizing GIS \n",
    "        #content as well as the results of your analysis.\n",
    "\n",
    "        gis = GIS(url=data_url) # data_url is an Optional string. \n",
    "                                #If URL is None, then the URL will be ArcGIS Online. This should be a web address to either an ArcGIS Enterprise portal \n",
    "\n",
    "        map1 = gis.map(city) #The GIS object includes a map widget that can be used to visualize the content of your \n",
    "                         #GIS as well as see the results of your analysis. \n",
    "        print(\"Displaying the map of \" +city)\n",
    "        display(map1)\n",
    "\n",
    "        #We can search for content in our GIS. We do that by calling gis.content.search() and for each web map or web layers that gets \n",
    "        #returned, we can display its rich representation within the notebook\n",
    "\n",
    "        print(\"Searching for \" + query)\n",
    "        items = gis.content.search(query, item_type=\"Feature Layer\", outside_org=True)\n",
    "        for item in items[:5]:\n",
    "            display(item) #print the first 5 results of the search\n",
    "            \n",
    "    except Exception as e:\n",
    "             print('Sorry, could not handle the GIS API. Error : ' + str(e)) "
   ]
  },
  {
   "cell_type": "markdown",
   "id": "4bfcaa0b",
   "metadata": {},
   "source": [
    "## Reading Datasets with GeoPandas <a class=\"anchor\" id=\"chapter4\"></a>"
   ]
  },
  {
   "cell_type": "markdown",
   "id": "790ba983",
   "metadata": {
    "id": "790ba983"
   },
   "source": [
    "### GeoJSON/SHP/GPKG  formats <a class=\"anchor\" id=\"section_4_1\"></a>"
   ]
  },
  {
   "cell_type": "markdown",
   "id": "eJqqYMUAHeTA",
   "metadata": {
    "id": "eJqqYMUAHeTA"
   },
   "source": [
    "**GeoJSON** is a JSON based format designed to represent the geographical features with their non-spatial attributes. It represents a collective information about the Geographical features, their spatial extents, and properties. An object of this file may indicate a geometry (Point, LineString, Polygon), a feature or collection of features. The features reflect addresses and places as point’s streets, main roads and borders as line strings and countries, provinces, and land regions as polygons. "
   ]
  },
  {
   "cell_type": "markdown",
   "id": "17dd5b1a",
   "metadata": {},
   "source": [
    "The **shapefile** format is a geospatial vector data format for geographic information system (GIS) software. Files with the extention '.shp' represent the shape format; the feature geometry itself {content-type: x-gis/x-shapefile}."
   ]
  },
  {
   "cell_type": "markdown",
   "id": "1ec2083a",
   "metadata": {},
   "source": [
    "**GeoPackage (GPKG)** is an open, non-proprietary, platform-independent and standards-based data format for geographic information systems built as a set of conventions over a SQLite database."
   ]
  },
  {
   "cell_type": "code",
   "execution_count": null,
   "id": "37ebb51d",
   "metadata": {
    "id": "37ebb51d"
   },
   "outputs": [],
   "source": [
    "import geopandas as gpd\n",
    "import io\n",
    "\n",
    "#same function is applicable for the- 'shp' and 'gpkg' format\n",
    "try:\n",
    "    df = gpd.read_file(data_url)\n",
    "except Exception as e:\n",
    "        print('Sorry, could not handle the geojson file. Error : ' + str(e))    "
   ]
  },
  {
   "cell_type": "markdown",
   "id": "db145222",
   "metadata": {
    "id": "db145222"
   },
   "source": [
    "### OGC standards <a class=\"anchor\" id=\"section_4_2\"></a>"
   ]
  },
  {
   "cell_type": "markdown",
   "id": "c95d4a09",
   "metadata": {
    "id": "c95d4a09"
   },
   "source": [
    "The **Open Geospatial Consortium (OGC)** is an international consortium of more than 500 businesses, government agencies, research organizations, and universities driven to make geospatial (location) information and services *FAIR - Findable, Accessible, Interoperable, and Reusable*.\n",
    "\n",
    "They are used by software developers to build open interfaces and encodings into their products and services. Standards are the main \"products\" of OGC and have been developed by the membership to address specific interoperability challenges, such as publishing map content on the Web, exchanging critical location data during disaster response & recovery, and enabling the fusion of information from diverse Internet of Things (IoT) devices. \n",
    "\n",
    "For more informations, see also [this link.](https://www.ogc.org/standards)"
   ]
  },
  {
   "cell_type": "code",
   "execution_count": 6,
   "id": "6fe1430f",
   "metadata": {},
   "outputs": [],
   "source": [
    "from owslib.ogcapi.features import Features\n",
    "from owslib.ogcapi.coverages import Coverages\n",
    "from owslib.ogcapi.records import Records\n",
    "from owslib.ogcapi.processes import Processes"
   ]
  },
  {
   "cell_type": "markdown",
   "id": "501c32c0",
   "metadata": {
    "id": "501c32c0"
   },
   "source": [
    "#### KML format  <a class=\"anchor\" id=\"sub_section_4_2_1\"></a>"
   ]
  },
  {
   "cell_type": "markdown",
   "id": "0c0d6f9e",
   "metadata": {
    "id": "0c0d6f9e"
   },
   "source": [
    "**Keyhole Markup Language (KML)** is a type of language tag, inspired by XML, which incorporates in an ASCII (text) file the geometric descriptions of points, lines and polygons, as well as attribute data like longitude and latitude, in addition to other data can make a view more specific, such as tilt, heading, or altitude, which together define a \"camera view\" along with a timestamp or timespan. The geographic annotation and visualization can be done within two-dimensional maps and three-dimensional Earth browsers.\n",
    "\n",
    "For more informations, see also [this link.](https://en.wikipedia.org/wiki/Keyhole_Markup_Language)"
   ]
  },
  {
   "cell_type": "code",
   "execution_count": null,
   "id": "47fcfbda",
   "metadata": {
    "id": "47fcfbda"
   },
   "outputs": [],
   "source": [
    "import geopandas as gpd\n",
    "import fiona\n",
    "import io\n",
    "\n",
    "def read_kml(data_url):\n",
    "    try:\n",
    "        gpd.io.file.fiona.drvsupport.supported_drivers['KML'] = 'rw'\n",
    "        df = gpd.read_file(data_url, driver='KML')\n",
    "    except Exception as e:\n",
    "            print('Sorry, could not handle the kml file. Error : ' + str(e))"
   ]
  },
  {
   "cell_type": "markdown",
   "id": "ff0d38ce",
   "metadata": {
    "id": "ff0d38ce"
   },
   "source": [
    "#### GML/XPLANGML formats <a class=\"anchor\" id=\"sub_section_4_2_2\"></a>\n"
   ]
  },
  {
   "cell_type": "markdown",
   "id": "f78105bc",
   "metadata": {
    "id": "f78105bc"
   },
   "source": [
    "Similar to KML format, the **The Geography Markup Language (GML)** consists of a set of XML schemas that define an open format for the exchange of geographic data and allow the construction of specific data models for specialized domains, such as urban planning, hydrology or geology.\n",
    "\n",
    "For more informations, have a look at [this link.](https://www.ogc.org/standards/gml)"
   ]
  },
  {
   "cell_type": "code",
   "execution_count": null,
   "id": "b0127222",
   "metadata": {},
   "outputs": [],
   "source": [
    "import geopandas as gpd\n",
    "import io\n",
    "\n",
    "#same function is applicable for the \"xplangml\" format\n",
    "try:\n",
    "    df = gpd.read_file(data_url, driver='GML')\n",
    "except Exception as e:\n",
    "        print('Sorry, could not handle the gml file. Error : ' + str(e))"
   ]
  },
  {
   "cell_type": "markdown",
   "id": "2bceeb26",
   "metadata": {
    "id": "2bceeb26"
   },
   "source": [
    "#### WMS format  <a class=\"anchor\" id=\"sub_section_4_2_3\"></a>"
   ]
  },
  {
   "cell_type": "markdown",
   "id": "5b6e18c8",
   "metadata": {
    "id": "5b6e18c8"
   },
   "source": [
    "**The Web Map Service (WMS)** is a standard protocol developed by the Open Geospatial Consortium (OGC) for serving georeferenced map images over the Internet. These images are typically produced by a map server from data provided by a GIS database. \n",
    "\n",
    "A WMS server usually serves the map in a bitmap format, e.g. PNG, GIF, JPEG, etc. In addition, vector graphics can be included, such as points, lines, curves and text, expressed in SVG or WebCGM format.\n",
    "\n",
    "WMS specifies a number of different request types, two of which are required by any WMS server:\n",
    "\n",
    "- GetCapabilities: returns parameters about the WMS (such as map image format and WMS version compatibility) and the available layers (map bounding box, coordinate reference systems, URI of the data and whether the layer is mostly opaque or not)\n",
    "\n",
    "\n",
    "- GetMap: returns a map image. Parameters include: width and height of the map, coordinate reference system, rendering style, image format\n",
    "\n",
    "For more details, have a look at [this link.](https://en.wikipedia.org/wiki/Web_Map_Service#:~:text=A%20Web%20Map%20Service%20(WMS,provided%20by%20a%20GIS%20database)"
   ]
  },
  {
   "cell_type": "code",
   "execution_count": null,
   "id": "0659f20a",
   "metadata": {
    "id": "0659f20a"
   },
   "outputs": [],
   "source": [
    "from owslib.wms import WebMapService\n",
    "from owslib.fes import PropertyIsEqualTo, PropertyIsLike, BBox\n",
    "import io\n",
    "\n",
    "#functions related to the WMS standard \n",
    "\n",
    "def wms_details(wms, layer):      #details of a layer\n",
    "     \n",
    "    print(\"name of the layer : \" + wms[layer].title)   \n",
    "    print(\"queryable : \" + str(wms[layer].queryable))\n",
    "    print(\"opacity : \" + str(wms[layer].opaque))\n",
    "    print(\"bounding box : \" + str(wms[layer].boundingBox))\n",
    "    print (\"bounding boxWGS84 : \" + str(wms[layer].boundingBoxWGS84))\n",
    "    print(\"crsOptions : \" +str(wms[layer].crsOptions))\n",
    "    print(\"styles : \" + str(wms[layer].styles)) #pseudo_bright, visual, pseudo_low, etc.\n",
    "          \n",
    "def wms_methods(wms, methods):\n",
    "          \n",
    "    for m in range(len(methods)): \n",
    "        print(\"method : \" + methods[m])\n",
    "        urls=wms.getOperationByName(methods[m]).methods\n",
    "        formats=wms.getOperationByName(methods[m]).formatOptions # image/jpeg, image/png, image/geotiff, image/tiff, etc.\n",
    "        print(\"Formats : \" +str(formats))\n",
    "        print('---------------------------')\n",
    "        \n",
    "        \n",
    "def wms_visualisation(layer,style,crsOptions, boundingBox, size, fmt, name):\n",
    "\n",
    "    img = wms.getmap(layers=layer,\n",
    "                         styles=style,\n",
    "                         srs=crsOptions,\n",
    "                         bbox=boundingBox,\n",
    "                         size=size, #for example : (300, 250)\n",
    "                         format= fmt,\n",
    "                         transparent=True)\n",
    "                        \n",
    "    out = open(name, 'wb')\n",
    "    out.write(img.read())\n",
    "    out.close()\n",
    "    \n",
    "def wms_main(data_url):\n",
    "    \n",
    "    #Connect to a WMS, and inspect its properties\n",
    "    wms = WebMapService(data_url)\n",
    "    title = wms.identification.title #name of the dataset          \n",
    "    layers = list(wms.contents) #available layers \n",
    "    for i in range(len(layers)):\n",
    "        wms_details(wms, layers[i])\n",
    "        print('---------------------------')\n",
    "    operations = [op.name for op in wms.operations]\n",
    "    wms_methods(wms, operations)\n",
    "    #wms_visualisation(layers[0], 'default','EPSG:4258', (3.8356, 50.757, 7.21, 53.446), (300, 250),'image/png', 'test.jpg')\n",
    "    "
   ]
  },
  {
   "cell_type": "markdown",
   "id": "0822dbbb",
   "metadata": {
    "id": "0822dbbb"
   },
   "source": [
    "#### CSW format  <a class=\"anchor\" id=\"sub_section_4_2_4\"></a>"
   ]
  },
  {
   "cell_type": "markdown",
   "id": "f00158a1",
   "metadata": {
    "id": "f00158a1"
   },
   "source": [
    "**Catalogue Service for the Web (CSW)** is a standard for exposing a catalogue of geospatial records in XML on the Internet (over HTTP). The catalogue is made up of records that describe geospatial data (e.g. KML), geospatial services (e.g. WMS), and related resources.\n",
    "\n",
    "Each record must contain certain core fields including: Title, Format, Type (e.g. Dataset, DatasetCollection or Service), BoundingBox (a rectangle of interest, expressed in latitude and longitude), Coordinate Reference System, and Association (a link to another metadata record).\n",
    "\n",
    "Operations defined by the CSW standard include:\n",
    "\n",
    "- *GetCapabilities*: allows CSW clients to retrieve service metadata from a server\n",
    "\n",
    "- *DescribeRecord*: allows a client to discover elements of the information model supported by the target catalogue service. The operation allows some or all of the information model to be described.\n",
    "\n",
    "- *GetRecords*: search for records, returning record IDs\n",
    "\n",
    "- *GetRecordById*: retrieves the default representation of catalogue records using their identifier\n",
    "\n",
    "- *GetDomain (optional)*: \"used to obtain runtime information about the range of values of a metadata record element or request parameter\"\n",
    "\n",
    "For more details, have a look at [this link](https://www.ogc.org/standards/cat) and [this one.](https://en.wikipedia.org/wiki/Catalogue_Service_for_the_Web)"
   ]
  },
  {
   "cell_type": "code",
   "execution_count": null,
   "id": "c31ed901",
   "metadata": {
    "id": "c31ed901"
   },
   "outputs": [],
   "source": [
    "from owslib.csw import CatalogueServiceWeb\n",
    "from owslib.fes import PropertyIsEqualTo, PropertyIsLike, BBox\n",
    "import io\n",
    "\n",
    "#functions related to the csw standard \n",
    "\n",
    "def csw_search_data(data, nb_results):\n",
    "    \n",
    "    #Search for a specific data, for example: search for bird data\n",
    "    query = PropertyIsEqualTo('csw:AnyText', data)\n",
    "    csw.getrecords2(constraints=[query], maxrecords=nb_results) # return n results out of all, for ex: nb_results=20\n",
    "    print(csw.results)\n",
    "    for rec in csw.records:\n",
    "        print(csw.records[rec].title)\n",
    "        \n",
    "def csw_search_data_place(data, bbox):\n",
    "    \n",
    "    #Search for a specific data in a specific place, for example: search for bird data in Canada\n",
    "    bbox_query = BBox(bbox) # for ex: bbox = [-141,42,-52,84]\n",
    "    query =  PropertyIsEqualTo('csw:AnyText', data)\n",
    "    csw.getrecords2(constraints=[query, bbox_query])\n",
    "    print(csw.results)\n",
    "\n",
    "def csw_search_like_keywords(keyword):\n",
    "    \n",
    "    #Search for keywords\n",
    "    query_like = PropertyIsLike('dc:subject', '%'+keyword+'%') #for ex: PropertyIsLike('dc:subject', '%birds%')\n",
    "    csw.getrecords2(constraints=[query_like])\n",
    "    print(csw.results)\n",
    "    \n",
    "def csw_main(data_url):\n",
    "    \n",
    "    #Connect to a CSW, and inspect its properties\n",
    "    csw = CatalogueServiceWeb(data_url) \n",
    "    csw_operations=[op.name for op in csw.operations]\n",
    "    print(csw_operations)\n",
    "    try:\n",
    "        for i in range(len(csw_operations)): #get supported resultType’s of each operation              \n",
    "            csw.getdomain(csw_operations[i]+'.resultType')\n",
    "            print(csw.results)\n",
    "    except:\n",
    "            print('Sorry, could not get the resultType. Please check the csw_operation')\n"
   ]
  },
  {
   "cell_type": "markdown",
   "id": "e4169e98",
   "metadata": {
    "id": "e4169e98"
   },
   "source": [
    "#### WFS format <a class=\"anchor\" id=\"sub_section_4_2_5\"></a>"
   ]
  },
  {
   "cell_type": "markdown",
   "id": "ead13c96",
   "metadata": {
    "id": "ead13c96"
   },
   "source": [
    "The **Web Feature Service (WFS)** allows, by means of a formatted URL, to query map servers in order to manipulate geographic objects (lines, points, polygons...), contrary to the Web Map Service or WMS which allows the production of georeferenced maps from geographic servers.\n",
    "\n",
    "For more details, have a look at [this link](https://en.wikipedia.org/wiki/Web_Feature_Service) and [this link.](https://geopython.github.io/OWSLib/usage.html#wfs)"
   ]
  },
  {
   "cell_type": "code",
   "execution_count": null,
   "id": "94dde483",
   "metadata": {
    "id": "94dde483"
   },
   "outputs": [],
   "source": [
    "from owslib.wfs import WebFeatureService\n",
    "from owslib.fes import PropertyIsEqualTo, PropertyIsLike, BBox\n",
    "import io\n",
    "\n",
    "try:\n",
    "    wfs = WebFeatureService(url=data_url) #Connect to a WFS and inspect its capabilities\n",
    "    print(wfs.identification.title)\n",
    "    operations = [operation.name for operation in wfs.operations]\n",
    "    print(operations)\n",
    "    contents = list(wfs.contents) #List FeatureTypes\n",
    "    print(contents)\n",
    "except Exception as e:\n",
    "        print('Sorry, could not handle the wfs file. Error : ' + str(e))"
   ]
  },
  {
   "cell_type": "markdown",
   "id": "86a8ffc2",
   "metadata": {
    "id": "86a8ffc2"
   },
   "source": [
    "#### WCS format  <a class=\"anchor\" id=\"sub_section_4_2_6\"></a>"
   ]
  },
  {
   "cell_type": "markdown",
   "id": "1370ff51",
   "metadata": {
    "id": "1370ff51"
   },
   "source": [
    "The **Web Coverage Service (WCS)** is a standard that provides an interface for downloading coverage data (digital terrain models, orthoimages, numerical weather prediction).\n",
    "\n",
    "For more details, have a look at [this link.](https://www.ogc.org/standards/wcs)"
   ]
  },
  {
   "cell_type": "code",
   "execution_count": null,
   "id": "5a195284",
   "metadata": {
    "id": "5a195284"
   },
   "outputs": [],
   "source": [
    "from owslib.wcs import WebCoverageService\n",
    "from owslib.fes import PropertyIsEqualTo, PropertyIsLike, BBox\n",
    "import io\n",
    "\n",
    "#functions related to the wcs standard \n",
    "\n",
    "def wcs_main(data_url):\n",
    "    \n",
    "    # Create coverage object\n",
    "    my_wcs = WebCoverageService(data_url)\n",
    "\n",
    "    # Get list of coverages\n",
    "    coverages=my_wcs.contents.keys()\n",
    "    print(coverages)\n",
    "\n",
    "    \n",
    "    for i in range(len(coverages)):\n",
    "        wcs_covrages(covrages[i])\n",
    "               \n",
    "def wcs_covrages(covrage): # Get geo-bounding boxes and native CRS of coverages\n",
    "    \n",
    "    boudingboxes = my_wcs.contents[coverage].boundingboxes\n",
    "\n",
    "    # Get axis labels\n",
    "    axislabels = my_wcs.contents[coverage].grid.axislabels\n",
    "\n",
    "    # Get dimension\n",
    "    dimension = my_wcs.contents[coverage].grid.dimension\n",
    "\n",
    "    # Get grid lower and upper bounds\n",
    "    lowlimits = my_wcs.contents[coverage].grid.lowlimits\n",
    "    highlimits = my_wcs.contents[coverage].grid.highlimits\n",
    "\n",
    "    # Get offset vectors for geo axes\n",
    "    offsetvectors= my_wcs.contents[coverage].grid.offsetvectors\n",
    "\n",
    "    # For coverage with time axis get the date time values\n",
    "    timepositions = my_wcs.contents[coverage].timepositions\n",
    "    "
   ]
  },
  {
   "cell_type": "markdown",
   "id": "46cbe5e7",
   "metadata": {
    "id": "46cbe5e7"
   },
   "source": [
    "### ZIP Files <a class=\"anchor\" id=\"chapter5\"></a>"
   ]
  },
  {
   "cell_type": "markdown",
   "id": "fVPnV7aCKpRW",
   "metadata": {
    "id": "fVPnV7aCKpRW"
   },
   "source": [
    "A file with **.zip extension** is an archive that can hold one or more files or directories. The archive can have compression applied to the included files in order to reduce the ZIP file size."
   ]
  },
  {
   "cell_type": "code",
   "execution_count": 4,
   "id": "48657a49",
   "metadata": {
    "id": "48657a49"
   },
   "outputs": [],
   "source": [
    "from zipfile import ZipFile \n",
    "import io\n",
    "\n",
    "def unzip_files_url(data_url): #unzip a file coming from an internet source\n",
    "    try:\n",
    "        r = requests.get(data_url)\n",
    "        z = ZipFile(io.BytesIO(r.content))\n",
    "        z.extractall()\n",
    "        filenames = [y for y in sorted(z.namelist())]\n",
    "        print(filenames)\n",
    "        return filenames\n",
    "    except Exception as e:\n",
    "             print('Sorry, could not handle unzip the file. Error : ' + str(e))    "
   ]
  },
  {
   "cell_type": "code",
   "execution_count": 66,
   "id": "yGSR_RFnId32",
   "metadata": {
    "id": "yGSR_RFnId32"
   },
   "outputs": [],
   "source": [
    "def unzip_files(filename):\n",
    "    with ZipFile(filename, 'r') as zObject:    \n",
    "        # Extracting all the members of the zip into a specific location.\n",
    "        zObject.extractall()\n",
    "        filenames = [y for y in sorted(zObject.namelist())]\n",
    "        print(filenames) \n",
    "        return filenames"
   ]
  },
  {
   "cell_type": "markdown",
   "id": "42483f31",
   "metadata": {
    "id": "42483f31"
   },
   "source": [
    "### SPARQL  format <a class=\"anchor\" id=\"chapter6\"></a>"
   ]
  },
  {
   "cell_type": "markdown",
   "id": "dd5f486f",
   "metadata": {
    "id": "dd5f486f"
   },
   "source": [
    "**SPARQL** is the standard query language and protocol for Linked Open Data and RDF databases. SPARQL can be used to add, remove and retrieve data from RDF-style graph databases. \n",
    "\n",
    "SPARQL queries can not only match patterns of subject-predicate-object triples, but can also use mathematical operations (*JOIN, SORT, AGGREGATE,etc.*) and a wide range of utility functions to create filters and new variable bindings. "
   ]
  },
  {
   "cell_type": "code",
   "execution_count": null,
   "id": "c7f84479",
   "metadata": {
    "id": "c7f84479"
   },
   "outputs": [],
   "source": [
    "from SPARQLWrapper import SPARQLWrapper, JSON\n",
    "import io\n",
    "\n",
    "def read_sparql(data_url, query):\n",
    "    try:   \n",
    "        sparql = SPARQLWrapper(data_url)\n",
    "        sparql.setQuery(query)\n",
    "        #The response from the given endpoint is retrieved in JSON and converted to a Python object, \n",
    "        #ret, which is then iterated over and printed        \n",
    "        ret = sparql.queryAndConvert()\n",
    "        for r in ret[\"results\"][\"bindings\"]: \n",
    "            print(r)\n",
    "    except Exception as e:\n",
    "         print('Sorry, could not handle the SPARQL file. Error : ' + str(e))            "
   ]
  },
  {
   "cell_type": "markdown",
   "id": "c60eaab7",
   "metadata": {
    "id": "c60eaab7"
   },
   "source": [
    "### PDF format  <a class=\"anchor\" id=\"chapter7\"></a>"
   ]
  },
  {
   "cell_type": "markdown",
   "id": "04458324",
   "metadata": {
    "id": "04458324"
   },
   "source": [
    "**tabula-py** is a simple Python wrapper of tabula-java, which enables you to extract tables from a PDF into a DataFrame, or a JSON. It can also extract tables from a PDF and save the file as a CSV, a TSV, or a JSON.    "
   ]
  },
  {
   "cell_type": "code",
   "execution_count": null,
   "id": "56330ec2",
   "metadata": {
    "id": "56330ec2"
   },
   "outputs": [],
   "source": [
    "import tabula\n",
    "import io\n",
    "\n",
    "def read_pdf(data_url):\n",
    "    try:\n",
    "        df = tabula.read_pdf(data_url)\n",
    "    except Exception as e:\n",
    "         print('Sorry, could not handle the PDF file. Please check parameters (URL, etc.). Error : ' + str(e))"
   ]
  },
  {
   "cell_type": "markdown",
   "id": "e281c663",
   "metadata": {
    "id": "e281c663"
   },
   "source": [
    "### OSM (DBF) format   <a class=\"anchor\" id=\"chapter8\"></a>"
   ]
  },
  {
   "cell_type": "markdown",
   "id": "45a3eaab",
   "metadata": {
    "id": "45a3eaab"
   },
   "source": [
    "OSM file parsing by osmium is built around the concept of handlers. A handler is a class with a set of callback functions. Each function processes exactly one type of object as it is read from the file.\n",
    "\n",
    "A handler has to inherit from one of the handler classes (in our case osmium.SimpleHandler). Then it needs to implement functions for each object type it wants to process.\n",
    "\n",
    "After that, the handler needs to be applied to an OSM file, and that is by calling the apply_file() convenience function, which in its simplest form only requires the file name as a parameter.\n",
    "\n",
    "For more detais, have a look at [the official documentation of OSMIUM.](https://docs.osmcode.org/pyosmium/latest/index.html)"
   ]
  },
  {
   "cell_type": "code",
   "execution_count": null,
   "id": "9d4473ca",
   "metadata": {
    "id": "9d4473ca"
   },
   "outputs": [],
   "source": [
    "import osmium as osm\n",
    "from dbfread import DBF\n",
    "\n",
    "class OSMHandler(osm.SimpleHandler):\n",
    "    def __init__(self):\n",
    "        osm.SimpleHandler.__init__(self)"
   ]
  },
  {
   "cell_type": "code",
   "execution_count": null,
   "id": "4ccf8d7c",
   "metadata": {
    "id": "4ccf8d7c"
   },
   "outputs": [],
   "source": [
    "osmhandler = OSMHandler()\n",
    "osmhandler.apply_file(data_url)"
   ]
  },
  {
   "cell_type": "markdown",
   "id": "NPuhODPj123P",
   "metadata": {
    "id": "NPuhODPj123P"
   },
   "source": [
    "### TIFF format   <a class=\"anchor\" id=\"chapter9\"></a>"
   ]
  },
  {
   "cell_type": "markdown",
   "id": "W4Gy-MtoMdrM",
   "metadata": {
    "id": "W4Gy-MtoMdrM"
   },
   "source": [
    "The **Tag Image File Format (TIFF)** is an image file format for storing images that are rasterized.\n",
    "\n",
    "The following step-by-step implementation was taken from [this tutorial.](https://www.javatpoint.com/visualize-tiff-file-using-matplotlib-and-gdal-in-python)"
   ]
  },
  {
   "cell_type": "code",
   "execution_count": 72,
   "id": "qJ-xQNusFcIf",
   "metadata": {
    "id": "qJ-xQNusFcIf"
   },
   "outputs": [],
   "source": [
    "from osgeo import gdal as GD  \n",
    "import matplotlib.pyplot as plt\n",
    "import matplotlib.pyplot as mplot  \n",
    "import numpy as npy \n",
    "\n",
    "data_set = GD.Open(data_url) \n",
    "print(\"Number of bands: \" + str(data_set.RasterCount))  #Counting the total number of bands"
   ]
  },
  {
   "cell_type": "code",
   "execution_count": 74,
   "id": "1LM-DCiuNHVQ",
   "metadata": {
    "id": "1LM-DCiuNHVQ"
   },
   "outputs": [],
   "source": [
    "# Fetching the bands. As, there are 3 bands, We will store in 3 different variables.\n",
    "# We utilize the GDAL's GetRasterBand(int) to get the bands. \n",
    "#It is important to note that the value that we pass will always begin with one (indexing of bands starts at 1) \n",
    "\n",
    "band_1 = data_set.GetRasterBand(1) # red channel  \n",
    "band_2 = data_set.GetRasterBand(2) # green channel  \n",
    "band_3 = data_set.GetRasterBand(3) # blue channel  "
   ]
  },
  {
   "cell_type": "code",
   "execution_count": 75,
   "id": "Kh3BGe6zOgnE",
   "metadata": {
    "id": "Kh3BGe6zOgnE"
   },
   "outputs": [],
   "source": [
    "#Step 4: Reading the bands as NumPy arrays.\n",
    "\n",
    "b1 = band_1.ReadAsArray()  \n",
    "b2 = band_2.ReadAsArray()  \n",
    "b3 = band_3.ReadAsArray()  \n",
    "\n",
    "# Plotting the arrays using imshow() function of matplotlib. In our case, for plotting the three arrays, we'll stack them up in order.\n",
    "\n",
    "img_1 = npy.dstack((b1, b2, b3))  \n",
    "f = mplot.figure()  \n",
    "plt.imshow(img_1)  \n",
    "mplot.savefig('Tiff.png')  \n",
    "mplot.show()  "
   ]
  },
  {
   "cell_type": "markdown",
   "id": "cng5-c3h1waK",
   "metadata": {
    "id": "cng5-c3h1waK"
   },
   "source": [
    "### DXF format   <a class=\"anchor\" id=\"chapter10\"></a>"
   ]
  },
  {
   "cell_type": "markdown",
   "id": "T-LiLmgRxfi7",
   "metadata": {
    "id": "T-LiLmgRxfi7"
   },
   "source": [
    "The **Drawing Interchange File (DXF)** format stores and describes the content of 2D and 3D design data and metadata. All graphical DXF entities are stored in layouts; these layouts can be iterated and do support the index operator. A layout can contain entities like LINE, CIRCLE, TEXT and so on. Each DXF entity can only reside in exact one layout.\n",
    "\n",
    "There are three different layout types:\n",
    "\n",
    "- **Modelspace:** the common construction space\n",
    "- **Paperspace:** used to to create print layouts\n",
    "- **BlockLayout:** reusable elements, every block has its own entity space\n",
    "\n",
    "A DXF document consist of exact one modelspace and at least one paperspace. The modelspace contains the “real” world representation of the drawing subjects in real world units.\n",
    "\n",
    "For more information, have a look at [the official documentation.](https://ezdxf.readthedocs.io/en/stable/index.html)\n"
   ]
  },
  {
   "cell_type": "code",
   "execution_count": 52,
   "id": "xJIGuoR7Pve0",
   "metadata": {
    "id": "xJIGuoR7Pve0"
   },
   "outputs": [],
   "source": [
    "import ezdxf\n",
    "import sys\n",
    "\n",
    "# helper function\n",
    "def print_entity(e):\n",
    "    print(\"LINE on layer: %s\\n\" % e.dxf.layer)\n",
    "    print(\"start point: %s\\n\" % e.dxf.start)\n",
    "    print(\"end point: %s\\n\" % e.dxf.end)\n",
    "    print('-------------------------')\n",
    "\n",
    "def read_ezdxf(filename, zipname):\n",
    "\n",
    "    try:\n",
    "      #ezdxf supports loading ASCII and binary DXF documents from a file or a ZIP-file\n",
    "\n",
    "      #doc = ezdxf.readfile(filename)\n",
    "      doc = ezdxf.readzip(zipname, filename )\n",
    "      msp = doc.modelspace()  # Getting the modelspace of the DXF document and iterate over all entities \n",
    "      for e in msp:\n",
    "        if e.dxftype() == \"LINE\":\n",
    "          print_entity(e)\n",
    "\n",
    "      # entity query for all LINE entities in modelspace\n",
    "      for e in msp.query(\"LINE\"):\n",
    "        print_entity(e)\n",
    "\n",
    "    except IOError:\n",
    "        print(f\"Not a DXF file or a generic I/O error.\")\n",
    "        sys.exit(1)\n",
    "    except ezdxf.DXFStructureError:\n",
    "        print(f\"Invalid or corrupted DXF file.\")\n",
    "        sys.exit(2)"
   ]
  }
 ],
 "metadata": {
  "colab": {
   "provenance": [],
   "toc_visible": true
  },
  "kernelspec": {
   "display_name": "Python 3 (ipykernel)",
   "language": "python",
   "name": "python3"
  },
  "language_info": {
   "codemirror_mode": {
    "name": "ipython",
    "version": 3
   },
   "file_extension": ".py",
   "mimetype": "text/x-python",
   "name": "python",
   "nbconvert_exporter": "python",
   "pygments_lexer": "ipython3",
   "version": "3.9.13"
  },
  "widgets": {
   "application/vnd.jupyter.widget-state+json": {
    "f1b2bad85884401993223366351ef44b": {
     "model_module": "arcgis-map-ipywidget",
     "model_module_version": "2.1.0.2",
     "model_name": "ArcGISMapIPyWidgetModel",
     "state": {
      "_add_this_graphic": {},
      "_add_this_notype_layer": {},
      "_auth_mode": "anonymous",
      "_basemap": "default",
      "_cell_output_screenshot_callback_resp": "",
      "_center": {},
      "_center_long_lat": [],
      "_custom_msg": "",
      "_dom_classes": [],
      "_draw_these_graphics_on_widget_load": [],
      "_draw_these_notype_layers_on_widget_load": [],
      "_extent": {
       "xmax": -73.75711999999999,
       "xmin": -74.25711999999999,
       "ymax": 40.964540000000056,
       "ymin": 40.464540000000056
      },
      "_file_output_screenshot_callback_resp": "",
      "_gallery_basemaps": {
       "default": {
        "baseMapLayers": [
         {
          "layerType": "ArcGISTiledMapServiceLayer",
          "resourceInfo": {
           "capabilities": "Map,Tilemap,Query,Data",
           "currentVersion": 10.3,
           "exportTilesAllowed": false,
           "fullExtent": {
            "spatialReference": {
             "latestWkid": 3857,
             "wkid": 102100
            },
            "xmax": 20037507.067161843,
            "xmin": -20037507.067161843,
            "ymax": 19971868.88040863,
            "ymin": -19971868.880408604
           },
           "initialExtent": {
            "spatialReference": {
             "latestWkid": 3857,
             "wkid": 102100
            },
            "xmax": 28848255.049479112,
            "xmin": -28848255.049479112,
            "ymax": 16430757.376790084,
            "ymin": -2077452.082122866
           },
           "layers": [
            {
             "defaultVisibility": false,
             "id": 0,
             "maxScale": 0,
             "minScale": 0,
             "name": "Citations",
             "parentLayerId": -1,
             "subLayerIds": null
            }
           ],
           "mapName": "Layers",
           "maxImageHeight": 4096,
           "maxImageWidth": 4096,
           "maxRecordCount": 100,
           "maxScale": 70.5310735,
           "minScale": 591657527.591555,
           "singleFusedMapCache": true,
           "spatialReference": {
            "latestWkid": 3857,
            "wkid": 102100
           },
           "supportedExtensions": "KmlServer",
           "supportedImageFormatTypes": "PNG32,PNG24,PNG,JPG,DIB,TIFF,EMF,PS,PDF,GIF,SVG,SVGZ,BMP",
           "supportedQueryFormats": "JSON, AMF",
           "supportsDynamicLayers": false,
           "tables": [],
           "tileInfo": {
            "cols": 256,
            "compressionQuality": 90,
            "dpi": 96,
            "format": "JPEG",
            "lods": [
             {
              "level": 0,
              "resolution": 156543.03392800014,
              "scale": 591657527.591555
             },
             {
              "level": 1,
              "resolution": 78271.51696399994,
              "scale": 295828763.795777
             },
             {
              "level": 2,
              "resolution": 39135.75848200009,
              "scale": 147914381.897889
             },
             {
              "level": 3,
              "resolution": 19567.87924099992,
              "scale": 73957190.948944
             },
             {
              "level": 4,
              "resolution": 9783.93962049996,
              "scale": 36978595.474472
             },
             {
              "level": 5,
              "resolution": 4891.96981024998,
              "scale": 18489297.737236
             },
             {
              "level": 6,
              "resolution": 2445.98490512499,
              "scale": 9244648.868618
             },
             {
              "level": 7,
              "resolution": 1222.992452562495,
              "scale": 4622324.434309
             },
             {
              "level": 8,
              "resolution": 611.4962262813797,
              "scale": 2311162.217155
             },
             {
              "level": 9,
              "resolution": 305.74811314055756,
              "scale": 1155581.108577
             },
             {
              "level": 10,
              "resolution": 152.87405657041106,
              "scale": 577790.554289
             },
             {
              "level": 11,
              "resolution": 76.43702828507324,
              "scale": 288895.277144
             },
             {
              "level": 12,
              "resolution": 38.21851414253662,
              "scale": 144447.638572
             },
             {
              "level": 13,
              "resolution": 19.10925707126831,
              "scale": 72223.819286
             },
             {
              "level": 14,
              "resolution": 9.554628535634155,
              "scale": 36111.909643
             },
             {
              "level": 15,
              "resolution": 4.77731426794937,
              "scale": 18055.954822
             },
             {
              "level": 16,
              "resolution": 2.388657133974685,
              "scale": 9027.977411
             },
             {
              "level": 17,
              "resolution": 1.1943285668550503,
              "scale": 4513.988705
             },
             {
              "level": 18,
              "resolution": 0.5971642835598172,
              "scale": 2256.994353
             },
             {
              "level": 19,
              "resolution": 0.29858214164761665,
              "scale": 1128.497176
             },
             {
              "level": 20,
              "resolution": 0.14929107082380833,
              "scale": 564.248588
             },
             {
              "level": 21,
              "resolution": 0.07464553541190416,
              "scale": 282.124294
             },
             {
              "level": 22,
              "resolution": 0.03732276770595208,
              "scale": 141.062147
             },
             {
              "level": 23,
              "resolution": 0.01866138385297604,
              "scale": 70.5310735
             }
            ],
            "origin": {
             "x": -20037508.342787,
             "y": 20037508.342787
            },
            "rows": 256,
            "spatialReference": {
             "latestWkid": 3857,
             "wkid": 102100
            }
           },
           "units": "esriMeters"
          },
          "url": "https://services.arcgisonline.com/ArcGIS/rest/services/World_Topo_Map/MapServer"
         }
        ],
        "title": "Topographic"
       }
      },
      "_heading": 0,
      "_image_overlays_to_remove": [],
      "_js_cdn_override": "",
      "_layers_to_remove": [],
      "_link_writeonly_extent": {},
      "_link_writeonly_heading": 0,
      "_link_writeonly_rotation": 0,
      "_link_writeonly_tilt": 0,
      "_model_module": "arcgis-map-ipywidget",
      "_model_module_version": "2.1.0.2",
      "_model_name": "ArcGISMapIPyWidgetModel",
      "_overlay_these_images_on_widget_load": [],
      "_overlay_this_image": {},
      "_portal_sharing_rest_url": "https://www.arcgis.com/sharing/rest/",
      "_portal_token": "",
      "_portal_url": "https://www.arcgis.com/",
      "_preview_screenshot_callback_resp": "",
      "_readonly_center": {},
      "_readonly_end_time": "",
      "_readonly_extent": {},
      "_readonly_heading": 0,
      "_readonly_rotation": 0,
      "_readonly_scale": -1,
      "_readonly_start_time": "",
      "_readonly_tilt": 0,
      "_readonly_webmap_from_js": {},
      "_readonly_zoom": -1,
      "_rotation": 0,
      "_scale": -1,
      "_snap_to_zoom": true,
      "_tilt": 0,
      "_time_info": {},
      "_trigger_interactive_draw_mode_for": {},
      "_trigger_new_jlab_window_with_args": {},
      "_trigger_print_js_debug_info": "",
      "_trigger_screenshot_with_args": {},
      "_trigger_webscene_save_to_this_portal_id": "",
      "_username": "None",
      "_uuid": "50aca500-9848-4b71-811f-9256474a5269",
      "_view_count": null,
      "_view_module": "arcgis-map-ipywidget",
      "_view_module_version": "2.1.0.2",
      "_view_name": "ArcGISMapIPyWidgetView",
      "_webmap": {},
      "_webscene": {},
      "_writeonly_end_time": "1970-01-02T00:00:00.000000",
      "_writeonly_start_time": "1970-01-02T00:00:00.000000",
      "_zoom": -1,
      "hide_mode_switch": false,
      "jupyter_target": "",
      "layout": "IPY_MODEL_3434355a0bc74e33ad844889d4105064",
      "legend": false,
      "mode": "2D",
      "print_service_url": "",
      "ready": false,
      "tab_mode": "auto",
      "time_mode": "time-window",
      "time_slider": false
     }
    }
   }
  }
 },
 "nbformat": 4,
 "nbformat_minor": 5
}
